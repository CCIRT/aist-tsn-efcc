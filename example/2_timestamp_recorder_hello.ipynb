{
 "cells": [
  {
   "cell_type": "markdown",
   "id": "1078ee73-b0ea-4212-bf43-143f162b9565",
   "metadata": {},
   "source": [
    "```\n",
    "Copyright (c) 2024-2025 National Institute of Advanced Industrial Science and Technology (AIST)\n",
    "All rights reserved.\n",
    "This software is released under the MIT License.\n",
    "http://opensource.org/licenses/mit-license.php\n",
    "```"
   ]
  },
  {
   "cell_type": "markdown",
   "id": "63db0436-67d2-48fd-a6fa-69d29487883e",
   "metadata": {},
   "source": [
    "## Introduction\n",
    "In this notebook you will learn the basic use of the timestamp recorder.\n",
    "\n",
    "1. [Records the transmitted and received timestamps of a 1 output, 1 input configuration](#1.-Records-the-transmitted-and-received-timestamps-of-a-1-output,-1-input-configuration)\n",
    "   1. [Make initial settings](#1-A.-Make-initial-settings)\n",
    "   2. [Set up the AXIS Switch](#1-B.-Set-up-the-AXIS-Switch)\n",
    "   4. [Set up the ethernet frame capture](#1-C.-Set-up-the-ethernet-frame-capture)\n",
    "   5. [Prepare send frames](#1-D.-Prepare-send-frames)\n",
    "   6. [Send the frames from Port0 to Port1, in repeat mode](#1-E.-Send-the-frames-from-Port0-to-Port1,-in-repeat-mode)\n",
    "   7. [Transfer the recorded timestamps to the host computer](#1-F.-Transfer-the-recorded-timestamps-to-the-host-computer)\n",
    "   8. [Check the recorded timestamps](#1-G.-Check-the-recorded-timestamps)\n",
    "   9. [Evaluate latency and throughput](#1-H.-Evaluate-latency-and-throughput)\n",
    "   10. [Add offset to timestamps](#1-I.-Add-offset-to-timestamps)"
   ]
  },
  {
   "cell_type": "code",
   "execution_count": 1,
   "id": "b7fcd561-0ecf-4992-96df-a888055b51df",
   "metadata": {},
   "outputs": [],
   "source": [
    "import argparse\n",
    "import tsn_efcc\n",
    "import pyxsdb\n",
    "import sys\n",
    "\n",
    "FREQ_MHZ = 125.0"
   ]
  },
  {
   "cell_type": "markdown",
   "id": "a56d1c85-1850-42a3-b98b-b98e8c66c0b3",
   "metadata": {},
   "source": [
    "## 1. Records the transmitted and received timestamps of a 1 output, 1 input configuration\n",
    "Connect TSN-EFCC ports 0 (MAC0) and 1 (MAC1) with an Ethernet cable.  \n",
    "Alternatively, connect ports 0 (MAC0) and 1 (MAC1) to a network switch.  \n",
    "![overwiew_sample_design-1g_example_configuration2.drawio.svg](img/overwiew_sample_design-1g_example_configuration2.drawio.svg)"
   ]
  },
  {
   "cell_type": "markdown",
   "id": "fe025a26-944f-49d4-900f-be5d75012952",
   "metadata": {},
   "source": [
    "### 1-A. Make initial settings"
   ]
  },
  {
   "cell_type": "markdown",
   "id": "ea230143-d61f-4a16-ac29-9980b49b88e0",
   "metadata": {},
   "source": [
    "Set JTAG2AXI target. As default, this target is expected to be target 3.  \n",
    "If you want to different target value, change the next value."
   ]
  },
  {
   "cell_type": "code",
   "execution_count": 2,
   "id": "c9b4af3e-09c2-402a-bceb-e46a1b92741d",
   "metadata": {},
   "outputs": [],
   "source": [
    "xsdb_target = 3"
   ]
  },
  {
   "cell_type": "code",
   "execution_count": 3,
   "id": "75650d6b-045a-42ab-b5a8-126c3901626d",
   "metadata": {},
   "outputs": [
    {
     "name": "stdout",
     "output_type": "stream",
     "text": [
      "xsdb server launched.\n",
      "TsnEfccAddressTable(ef_crafter=1593835520, ef_crafter_buffers=(1342177280, 1358954496, 1375731712, 1392508928), ef_crafter_ip_tables=(1409286144, 1426063360, 1442840576, 1459617792), ef_crafter_mac_tables=(1476395008, 1493172224, 1509949440, 1526726656), ef_capture_tx_ctrl=(1325400064, 1325465600, 1325531136, 1325596672), ef_capture_rx_ctrl=(1325662208, 1325727744, 1325793280, 1325858816), ef_capture_buffers=(1073741824, 1090519040, 1107296256, 1124073472), ef_capture_buffer_switch=(1326448640, 1326514176, 1326579712, 1326645248), axis_net_switch=1610612736, commit_hash=1048576)\n",
      "\n"
     ]
    }
   ],
   "source": [
    "# Open xsdb device to access TSN-EFCC\n",
    "xsdb = pyxsdb.PyXsdb()\n",
    "xsdb.connect()\n",
    "xsdb.target(xsdb_target)\n",
    "\n",
    "# Get the default address table object\n",
    "default_addr_table = tsn_efcc.default_tsn_efcc_address_table()\n",
    "print(f'{default_addr_table}\\n')\n",
    "\n",
    "# Initialize AxisNetSwitch object\n",
    "switch = tsn_efcc.AxisNetSwitch(xsdb, xsdb_target, default_addr_table)\n",
    "\n",
    "# Initialize the ef_crafter\n",
    "crafter = tsn_efcc.EFCrafter(xsdb, xsdb_target, default_addr_table)\n",
    "\n",
    "# Just to be sure, stop ef_crafter\n",
    "crafter.reset(0xff)"
   ]
  },
  {
   "cell_type": "markdown",
   "id": "7181ba5f-6ec4-447b-aa95-070791efd673",
   "metadata": {},
   "source": [
    "### 1-B. Set up the AXIS Switch"
   ]
  },
  {
   "cell_type": "markdown",
   "id": "0d21b166-5d83-4e69-9702-c254f93bd287",
   "metadata": {},
   "source": [
    "In this test, we connect EFCrafter0(port 4) to TX0(port 0).  \n",
    "In addition, EFCrafter1 (port 5) is connected to TX1 (port 1) for FDB learning when using a switch.  \n",
    "Other input ports are disconnected from output port."
   ]
  },
  {
   "cell_type": "code",
   "execution_count": 4,
   "id": "d5bcd52a-35a9-4361-8816-74951b2e992e",
   "metadata": {},
   "outputs": [
    {
     "name": "stdout",
     "output_type": "stream",
     "text": [
      "input MAC0-RX -> Drop\n",
      "input MAC1-RX -> Drop\n",
      "input MAC2-RX -> Drop\n",
      "input MAC3-RX -> Drop\n",
      "input EFCrafter0 -> MAC0-TX\n",
      "input EFCrafter1 -> MAC1-TX\n",
      "input EFCrafter2 -> Drop\n",
      "input EFCrafter3 -> Drop\n"
     ]
    }
   ],
   "source": [
    "switch.start_config()\n",
    "switch.connect(4, 0)   # generator0 -> MAC0 TX\n",
    "                       # loopback by ethernet cable: MAC 0 TX -> MAC1 RX, MAC1 TX -> MAC0 RX\n",
    "switch.connect(5, 1)   # generator1 -> MAC1 TX\n",
    "switch.commit()\n",
    "\n",
    "# show current switch status\n",
    "switch.show_configuration()"
   ]
  },
  {
   "cell_type": "markdown",
   "id": "ab00b962-b53b-43e9-9b49-8d3c0aee2301",
   "metadata": {},
   "source": [
    "### 1-C. Set up the ethernet frame capture"
   ]
  },
  {
   "cell_type": "markdown",
   "id": "d354de6a-7e7d-4832-9589-283b5c9829a9",
   "metadata": {},
   "source": [
    "Configure recorder (1 TX, 1 RX)"
   ]
  },
  {
   "cell_type": "code",
   "execution_count": 5,
   "id": "3a7fb892-3493-45a7-bd79-a325db4a870a",
   "metadata": {},
   "outputs": [],
   "source": [
    "recorder0 = tsn_efcc.EFCapture(xsdb, xsdb_target, default_addr_table, 0)\n",
    "recorder1 = tsn_efcc.EFCapture(xsdb, xsdb_target, default_addr_table, 1)\n",
    "recorder0.select_port('tx')    # use recorder of MAC 0 to record TX timestamp\n",
    "recorder1.select_port('rx')    # use recorder of MAC 1 to record RX timestamp\n",
    "\n",
    "# Just to be sure, let's reset the timestamp recording status\n",
    "recorder0.reset()\n",
    "recorder1.reset()"
   ]
  },
  {
   "cell_type": "markdown",
   "id": "d3830680-79b0-4fbd-a660-c99deeea2ab4",
   "metadata": {},
   "source": [
    "### 1-D. Prepare send frames"
   ]
  },
  {
   "cell_type": "markdown",
   "id": "08ae3962-5f82-4fba-b9e6-06539e8fff7f",
   "metadata": {},
   "source": [
    "Create a frame for the flow from port 0 to port 1 and push the frame object to EFCrafter."
   ]
  },
  {
   "cell_type": "code",
   "execution_count": 6,
   "id": "4daaa262-74fa-49f6-be09-cfe5fb1dc0b8",
   "metadata": {},
   "outputs": [
    {
     "name": "stdout",
     "output_type": "stream",
     "text": [
      "Frame0000.ETHER(dst=2, src=1).IPV4(dst=2, src=1).UDP(dst=2000, src=1000).Payload(length=1024)\n",
      "EOL()\n"
     ]
    }
   ],
   "source": [
    "frame0 = tsn_efcc.Frame('Frame0').ether(dst=2, src=1).ipv4(dst=2, src=1).udp(dst=2000, src=1000).payload(length=1024)\n",
    "\n",
    "eol_frame = tsn_efcc.Frame.eol()\n",
    "crafter.set_frame(port=0, index=0, frame=frame0)\n",
    "crafter.set_frame(port=0, index=1, frame=eol_frame)\n",
    "\n",
    "# Dump the frame information pushed to EFCrafter\n",
    "for frame in crafter.get_frames(port=0):\n",
    "    print(frame)"
   ]
  },
  {
   "cell_type": "markdown",
   "id": "e278125a-57d2-4b67-9eba-287da4341aee",
   "metadata": {},
   "source": [
    "We will create and send a reverse frame for FDB learning."
   ]
  },
  {
   "cell_type": "code",
   "execution_count": 7,
   "id": "66cdc81f-d21d-4f28-82b8-2719ebc15dfd",
   "metadata": {},
   "outputs": [
    {
     "name": "stdout",
     "output_type": "stream",
     "text": [
      "Frame0000.ETHER(dst=1, src=2).IPV4(dst=1, src=2).UDP(dst=2000, src=1000).Payload(length=1024)\n",
      "EOL()\n"
     ]
    }
   ],
   "source": [
    "frame1 = tsn_efcc.Frame('Frame1').ether(dst=1, src=2).ipv4(dst=1, src=2).udp(dst=2000, src=1000).payload(length=1024)\n",
    "\n",
    "crafter.set_frame(port=1, index=0, frame=frame1)\n",
    "crafter.set_frame(port=1, index=1, frame=eol_frame)\n",
    "\n",
    "# Dump the frame information pushed to EFCrafter\n",
    "for frame in crafter.get_frames(port=1):\n",
    "    print(frame)\n",
    "\n",
    "# Send the frame from Port1 to Port0\n",
    "port1 = 1\n",
    "bit_mask = 1 << port1\n",
    "crafter.reset(bit_mask)\n",
    "crafter.start(bit_mask)\n",
    "\n",
    "# Wait for transmission to complete\n",
    "crafter.wait(port1)"
   ]
  },
  {
   "cell_type": "markdown",
   "id": "37e98cbf-67a6-4974-9b4c-1f8f7f29ce5a",
   "metadata": {},
   "source": [
    "### 1-E. Send the frames from Port0 to Port1, in repeat mode"
   ]
  },
  {
   "cell_type": "code",
   "execution_count": 8,
   "id": "a6904ecb-66a9-4485-833e-7a7c88a17ef7",
   "metadata": {},
   "outputs": [
    {
     "name": "stdout",
     "output_type": "stream",
     "text": [
      "Wait until 1000 frames are sent\n"
     ]
    }
   ],
   "source": [
    "port0 = 0\n",
    "bit_mask = 1 << port0\n",
    "crafter.reset(bit_mask)\n",
    "crafter.set_repeat(bit_mask)\n",
    "crafter.start(bit_mask)\n",
    "\n",
    "print('Wait until 1000 frames are sent')\n",
    "crafter.wait_until(port0, 1000)\n",
    "\n",
    "# Reset ef_crafter to stop repeating\n",
    "crafter.reset(0xff)"
   ]
  },
  {
   "cell_type": "markdown",
   "id": "96e3c7f6-4fb3-4260-a7e0-a431340565eb",
   "metadata": {},
   "source": [
    "### 1-F. Transfer the recorded timestamps to the host computer"
   ]
  },
  {
   "cell_type": "markdown",
   "id": "a9f63720-b718-4db8-bedf-ff1fae1772d7",
   "metadata": {},
   "source": [
    "Check whether TimestampStatistics records 1000 timestamps or not."
   ]
  },
  {
   "cell_type": "code",
   "execution_count": 9,
   "id": "1ccd6293-18b0-4b75-b7c6-19a5c6a92db7",
   "metadata": {},
   "outputs": [
    {
     "data": {
      "text/plain": [
       "1000"
      ]
     },
     "execution_count": 9,
     "metadata": {},
     "output_type": "execute_result"
    }
   ],
   "source": [
    "recorder0.wait(1000)\n",
    "recorder1.wait(1000)"
   ]
  },
  {
   "cell_type": "markdown",
   "id": "e6f96387-409f-4b17-b1f2-d0940df151c9",
   "metadata": {},
   "source": [
    "At least 1000 frames are recorder. Current status of EFCapture is"
   ]
  },
  {
   "cell_type": "code",
   "execution_count": 10,
   "id": "35b48c38-4e85-430e-9cb5-b03622a09cd0",
   "metadata": {},
   "outputs": [
    {
     "name": "stdout",
     "output_type": "stream",
     "text": [
      "-------------\n",
      "Recorder0: \n",
      "  status: Recording timestamps\n",
      "  bramcounter: 1271\n",
      "  framecounter: 1271\n",
      "Recorder1: \n",
      "  status: Recording timestamps\n",
      "  bramcounter: 1271\n",
      "  framecounter: 1271\n",
      "-------------\n"
     ]
    }
   ],
   "source": [
    "print('-------------')\n",
    "print('Recorder0: ')\n",
    "for k, v in recorder0.get_status().items():\n",
    "    print(f'  {k}: {v}')\n",
    "print('Recorder1: ')\n",
    "for k, v in recorder1.get_status().items():\n",
    "    print(f'  {k}: {v}')\n",
    "print('-------------')"
   ]
  },
  {
   "cell_type": "markdown",
   "id": "6e43bc58-4f1f-4e07-a40e-f3ad7c455738",
   "metadata": {},
   "source": [
    "Read 1000 frames from hardware."
   ]
  },
  {
   "cell_type": "code",
   "execution_count": 11,
   "id": "78253e26-fede-4721-b9ba-6c62c536d777",
   "metadata": {},
   "outputs": [
    {
     "name": "stdout",
     "output_type": "stream",
     "text": [
      "read_timestamp: |██████████████████████████████| 1000 / 1000\n",
      "read_timestamp: |██████████████████████████████| 1000 / 1000\n"
     ]
    }
   ],
   "source": [
    "send_stat = recorder0.read_timestamp(1000)\n",
    "recv_stat = recorder1.read_timestamp(1000)"
   ]
  },
  {
   "cell_type": "markdown",
   "id": "ebce949f-2c67-43f7-bc71-16e72f7a4f86",
   "metadata": {},
   "source": [
    "### 1-G. Check the recorded timestamps"
   ]
  },
  {
   "cell_type": "markdown",
   "id": "85a9851d-d4f1-4488-aa8c-7040d493ae80",
   "metadata": {},
   "source": [
    "The stat object contains a list of timestamps. The first 5 timestamps are"
   ]
  },
  {
   "cell_type": "code",
   "execution_count": 12,
   "id": "ca8be8e5-1c2f-496d-ba73-ac75f8bced48",
   "metadata": {},
   "outputs": [
    {
     "name": "stdout",
     "output_type": "stream",
     "text": [
      "Timestamp(Port0):\n",
      "  id=0, timestamp=2797740495\n",
      "  id=1, timestamp=2797741585\n",
      "  id=2, timestamp=2797742675\n",
      "  id=3, timestamp=2797743765\n",
      "  id=4, timestamp=2797744855\n",
      "Timestamp(Port1):\n",
      "  id=0, timestamp=2797740686\n",
      "  id=1, timestamp=2797741777\n",
      "  id=2, timestamp=2797742867\n",
      "  id=3, timestamp=2797743957\n",
      "  id=4, timestamp=2797745047\n"
     ]
    }
   ],
   "source": [
    "print('Timestamp(Port0):')\n",
    "for k, v in list(send_stat.get_stats().items())[:5]:\n",
    "    print(f'  id={k}, timestamp={v}')\n",
    "print('Timestamp(Port1):')\n",
    "for k, v in list(recv_stat.get_stats().items())[:5]:\n",
    "    print(f'  id={k}, timestamp={v}')"
   ]
  },
  {
   "cell_type": "markdown",
   "id": "d9127b05-268d-4cd4-9475-54a33e1ee087",
   "metadata": {},
   "source": [
    "- The `id` is a number embedded in each frame by the EFCrafter. The EFCapture records the `id` read from the frame as it is in the stat object.\n",
    "  - The upper 3 bits of the 32 bit `id` indicate the EFCrafter number. In this case EFCrafter 0 is used, so the upper 3 bits are 0.\n",
    "  - The remaining 29 bits of the 32-bit `id` are the frame number, which indicates how many frames the ef_crafter has processed. However, the counter value is also incremented when the ef_crafter processes an NOP frame, so it does not necessarily correspond to the number of output frames.\n",
    "- The `timestamp` is the time at which the first byte of the frame passed through the EFCapture. The unit is cycles, and because this design is operating at a clock frequency of 125 MHz, the value is multiplied by 8 to give ns.\n",
    "- The stat object is an object that holds the received timestamps, and provides various functions such as latency measurement between timestamps and throughput measurement. This will be explained in the next section."
   ]
  },
  {
   "cell_type": "markdown",
   "id": "e60b2b9b-ccab-47ed-9346-d9792eb9eaa7",
   "metadata": {},
   "source": [
    "To save timestamps, call `save_to_csv()` function."
   ]
  },
  {
   "cell_type": "code",
   "execution_count": 13,
   "id": "9212cb97-e859-4271-b0f7-02cffea78484",
   "metadata": {},
   "outputs": [],
   "source": [
    "send_stat.save_to_csv(\"2_send.csv\")\n",
    "recv_stat.save_to_csv(\"2_recv.csv\")"
   ]
  },
  {
   "cell_type": "markdown",
   "id": "4adc250c-b4b4-4b54-ac7f-986659d4b7d7",
   "metadata": {},
   "source": [
    "### 1-H. Evaluate latency and throughput"
   ]
  },
  {
   "cell_type": "markdown",
   "id": "a5a5c6be-dd46-4810-be20-f829c81ad763",
   "metadata": {},
   "source": [
    "The latency from send to recv can be calculated by taking the difference between the two timestamps.  \n",
    "The timestamp difference can be obtained using the `subtract()` function.  \n",
    "Subtract function calculates the difference between timestamps with the same `id` and discards timestamps that only exist in either send_stat or recv_stat."
   ]
  },
  {
   "cell_type": "code",
   "execution_count": 14,
   "id": "c06d80c9-2cb7-49d0-b978-acdec8eeeadc",
   "metadata": {},
   "outputs": [],
   "source": [
    "diff_stat = recv_stat.subtract(send_stat)"
   ]
  },
  {
   "cell_type": "markdown",
   "id": "d0fcd638-6ce0-491e-8687-707900c4015a",
   "metadata": {},
   "source": [
    "The first 5 timestamp differences are"
   ]
  },
  {
   "cell_type": "code",
   "execution_count": 15,
   "id": "9b893ca6-0ee2-42f2-be40-5215d2eab84f",
   "metadata": {},
   "outputs": [
    {
     "name": "stdout",
     "output_type": "stream",
     "text": [
      "Timestamp difference(Port0 -> Port1):\n",
      "  id=0, timestamp_diff=191\n",
      "  id=1, timestamp_diff=192\n",
      "  id=2, timestamp_diff=192\n",
      "  id=3, timestamp_diff=192\n",
      "  id=4, timestamp_diff=192\n"
     ]
    }
   ],
   "source": [
    "print('Timestamp difference(Port0 -> Port1):')\n",
    "for k, v in list(diff_stat.get_stats().items())[:5]:\n",
    "    print(f'  id={k}, timestamp_diff={v}')"
   ]
  },
  {
   "cell_type": "markdown",
   "id": "d5b3cc27-71d7-4d42-a7b4-09269effe590",
   "metadata": {},
   "source": [
    "The `timestamp_diff` is the timestamp difference expressed in cycles."
   ]
  },
  {
   "cell_type": "markdown",
   "id": "fa70ca60-2c34-4a9c-bbf5-02e35372b389",
   "metadata": {},
   "source": [
    "To save the timestamp difference, you can also call `save_to_csv()` function."
   ]
  },
  {
   "cell_type": "code",
   "execution_count": 16,
   "id": "7ae5eb38-6671-4a22-baa0-8dcd998ac56e",
   "metadata": {},
   "outputs": [],
   "source": [
    "diff_stat.save_to_csv(\"2_diff.csv\")"
   ]
  },
  {
   "cell_type": "markdown",
   "id": "4de94c36-1aab-4685-83da-bd5b561cb330",
   "metadata": {},
   "source": [
    "To show the latency statistics, call `summary()` function.  \n",
    "It is also possible to output to a file by changing the `f=sys.stdout` part to an io object.  \n",
    "Example: \n",
    "```\n",
    "with open('diff_summary.txt', 'w') as f:\n",
    "    diff_stat.summary(freq_mhz=FREQ_MHZ, name='Latency', f=f)\n",
    "```"
   ]
  },
  {
   "cell_type": "code",
   "execution_count": 17,
   "id": "170221e1-455f-4543-8acf-bd15a00fb62c",
   "metadata": {},
   "outputs": [
    {
     "name": "stdout",
     "output_type": "stream",
     "text": [
      "--------------------------------\n",
      "TimestampStat(Latency): id range = [0x00000000:0x000003e7]\n",
      "Minimum Timestamp: 1528.00 ns\n",
      "Maximum Timestamp: 1552.00 ns\n",
      "Average Timestamp: 1540.26 ns\n",
      "Stddev Timestamp: 4.02 ns\n"
     ]
    }
   ],
   "source": [
    "diff_stat.summary(freq_mhz=FREQ_MHZ, name='Latency', f=sys.stdout)"
   ]
  },
  {
   "cell_type": "markdown",
   "id": "aed820ae-18a1-4865-9d73-acf1a24cb073",
   "metadata": {},
   "source": [
    "Next, compute bandwidth of each port.  \n",
    "\n",
    "Bandwidth is calculated by dividing the total number of bytes of frames entering a section by the time of that section.  \n",
    "The `summary_bandwidth()` function calculates the total number of bytes from the number of frames received and the frame size, and the time period from the timestamp of the first frame in send_stat and the timestamp of the last frame in recv_stat. It then calculates the bandwidth for each send and receive.  \n",
    "It also returns the drop rate, which is the ratio of the number of `id` values in send_stat that are not included in recv_stat."
   ]
  },
  {
   "cell_type": "markdown",
   "id": "ab55bf82-28cb-453f-b502-2b306d024897",
   "metadata": {},
   "source": [
    "We need frame size information to compute bandwidth, compute by frame0 object, and add function to map `id` to frame size.  \n",
    "Then call `summary_bandwidth()` function."
   ]
  },
  {
   "cell_type": "code",
   "execution_count": 18,
   "id": "a13b1409-ffcc-4b0a-b856-e9c1cb85a3fb",
   "metadata": {},
   "outputs": [
    {
     "name": "stdout",
     "output_type": "stream",
     "text": [
      "l2 size of Frame0: 1070, l7 size of Frame0: 1024\n",
      "--------------------------------\n",
      "TimestampStat(): id range = [0x00000000:0x000003e7]\n",
      "# of sent frames: 1000\n",
      "send rate: 982.634 Mbps\n",
      "# of recvd frames: 1000\n",
      "recv rate: 982.634 Mbps\n",
      "# of dropped frames: 0\n",
      "drop rate: 0.000 %\n"
     ]
    }
   ],
   "source": [
    "l2_size, l7_size = frame0.get_length()\n",
    "print(f'l2 size of Frame0: {l2_size}, l7 size of Frame0: {l7_size}')\n",
    "def timestamp_to_size(tid: int) -> int:\n",
    "    return l2_size\n",
    "\n",
    "start_timestamp = min(send_stat.get_timestamps())\n",
    "end_timestamp = max(send_stat.get_timestamps())\n",
    "duration_sec = (end_timestamp - start_timestamp) / (FREQ_MHZ * 1000 * 1000)\n",
    "\n",
    "tsn_efcc.TimestampStatistic.summary_bandwidth(send_stat, recv_stat, FREQ_MHZ, timestamp_to_size, duration_sec=duration_sec, f=sys.stdout)"
   ]
  },
  {
   "cell_type": "markdown",
   "id": "63905d8b-75d5-4410-8194-80f72b956827",
   "metadata": {},
   "source": [
    "### 1-I. Add offset to timestamps"
   ]
  },
  {
   "cell_type": "markdown",
   "id": "2f25e999-5ade-49cb-af77-38243dcbad82",
   "metadata": {},
   "source": [
    "Next we will see how to compensate for incorrect latency correction values in the efcc.  \n",
    "\n",
    "The original values of the TX and RX timestamps acquired by the efcc include the MAC and PHY delays of the efcc itself, as well as the delay of the cable used. However, to measure only the latency generated within the device under test, the efcc records the timestamps after subtracting these values in a correction process.  \n",
    "When delay correction is performed correctly, the delay when looping back the efcc via the cable averages at less than 1 cycle.  \n",
    "However, when long or extremely short cables are used, an error of one cycle or more may occur.  \n",
    "In such cases, additional correction processing is required."
   ]
  },
  {
   "cell_type": "markdown",
   "id": "0b7a6684-29df-4a32-b313-f79a67ae879c",
   "metadata": {},
   "source": [
    "Suppose the average latency during cable loopback is `10 cycles`.  \n",
    "Under this condition, the correct latency is the difference between the TX and RX timestamps obtained from the efcc minus 10 cycles.  \n",
    "Let's add `-10` cycles to the latency obtained by 1-H."
   ]
  },
  {
   "cell_type": "code",
   "execution_count": 19,
   "id": "6e885987-23c6-4bab-9656-03d6d1768116",
   "metadata": {},
   "outputs": [],
   "source": [
    "new_diff_stat = diff_stat.add_constant(-10)"
   ]
  },
  {
   "cell_type": "markdown",
   "id": "81cf12a4-3e98-43d2-ada6-5236cfc203c6",
   "metadata": {},
   "source": [
    "Check that the latency is correctly offset."
   ]
  },
  {
   "cell_type": "code",
   "execution_count": 20,
   "id": "9812474c-46af-4ca2-9f21-c96d16a9b947",
   "metadata": {},
   "outputs": [
    {
     "name": "stdout",
     "output_type": "stream",
     "text": [
      "Timestamp difference(Port0 -> Port1) with offset:\n",
      "  id=0, timestamp_diff=181\n",
      "  id=1, timestamp_diff=182\n",
      "  id=2, timestamp_diff=182\n",
      "  id=3, timestamp_diff=182\n",
      "  id=4, timestamp_diff=182\n",
      "Timestamp difference(Port0 -> Port0) without offset:\n",
      "  id=0, timestamp_diff=191\n",
      "  id=1, timestamp_diff=192\n",
      "  id=2, timestamp_diff=192\n",
      "  id=3, timestamp_diff=192\n",
      "  id=4, timestamp_diff=192\n"
     ]
    }
   ],
   "source": [
    "print('Timestamp difference(Port0 -> Port1) with offset:')\n",
    "for k, v in list(new_diff_stat.get_stats().items())[:5]:\n",
    "    print(f'  id={k}, timestamp_diff={v}')\n",
    "\n",
    "print('Timestamp difference(Port0 -> Port0) without offset:')\n",
    "for k, v in list(diff_stat.get_stats().items())[:5]:\n",
    "    print(f'  id={k}, timestamp_diff={v}')"
   ]
  },
  {
   "cell_type": "code",
   "execution_count": null,
   "id": "ad6cad57-e354-457b-b1d1-91dbe47ed085",
   "metadata": {},
   "outputs": [],
   "source": []
  }
 ],
 "metadata": {
  "kernelspec": {
   "display_name": "Python 3 (ipykernel)",
   "language": "python",
   "name": "python3"
  },
  "language_info": {
   "codemirror_mode": {
    "name": "ipython",
    "version": 3
   },
   "file_extension": ".py",
   "mimetype": "text/x-python",
   "name": "python",
   "nbconvert_exporter": "python",
   "pygments_lexer": "ipython3",
   "version": "3.10.12"
  }
 },
 "nbformat": 4,
 "nbformat_minor": 5
}
