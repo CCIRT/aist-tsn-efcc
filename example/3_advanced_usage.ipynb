{
 "cells": [
  {
   "cell_type": "markdown",
   "id": "9980dce0-9e11-4dad-9740-0362aceae1c1",
   "metadata": {},
   "source": [
    "```\n",
    "Copyright (c) 2024-2025 National Institute of Advanced Industrial Science and Technology (AIST)\n",
    "All rights reserved.\n",
    "This software is released under the MIT License.\n",
    "http://opensource.org/licenses/mit-license.php\n",
    "```"
   ]
  },
  {
   "cell_type": "markdown",
   "id": "63db0436-67d2-48fd-a6fa-69d29487883e",
   "metadata": {},
   "source": [
    "## Introduction\n",
    "In this notebook you will learn the advanced use of the ef_crafter and the ef_capture.\n",
    "\n",
    "1. [Simultaneously send frames from port0 to port1 and from port2 to port1 and record the send and receive times](#1.-Simultaneously-send-frames-from-port0-to-port1-and-from-port2-to-port1-and-record-the-send-and-receive-times)\n",
    "   1. [Make initial settings](#1-A.-Make-initial-settings)\n",
    "   2. [Set up the AXIS Switch](#1-B.-Set-up-the-AXIS-Switch)\n",
    "   3. [Update ef_capture setting](#1-C.-Update-ef_capture-setting)\n",
    "   4. [Prepare send frames](#1-D.-Prepare-send-frames)\n",
    "   5. [Send frames from port0 and port2 simultaneously, in repeat mode](#1-E.-Send-frames-from-port0-and-port2-simultaneously,-in-repeat-mode)\n",
    "   6. [Transfer the recorded timestamps to the host computer](#1-F.-Transfer-the-recorded-timestamps-to-the-host-computer)\n",
    "   7. [Check the recorded timestamps](#1-G.-Check-the-recorded-timestamps)\n",
    "   8. [Evaluate latency and throughput for each input port](#1-H.-Evaluate-latency-and-throughput-for-each-input-port)\n",
    "2. [Send frames by adjusting the frame interval to match the target transfer rate](#2.-Send-frames-by-adjusting-the-frame-interval-to-match-the-target-transfer-rate)\n",
    "   1. [Update internal switch configuration](#2-A.-Update-internal-switch-configuration)\n",
    "   2. [Update ef_capture setting](#2-B.-Update-ef_capture-setting)\n",
    "   3. [Prepare send frames (Constant rate)](#2-C.-Prepare-send-frames-(Constant-rate))\n",
    "   4. [Send frames from port0 to port1, in repeat mode](#2-D.-Send-frames-from-port0-to-port1,-in-repeat-mode)\n",
    "   5. [Transfer the recorded timestamps to the host computer](#2-E.-Transfer-the-recorded-timestamps-to-the-host-computer)\n",
    "   6. [Evaluate latency and throughput for each input port](#2-F.-Evaluate-latency-and-throughput-for-each-input-port)\n",
    "3. [Sends frames at a random transmission rate that follows an exponential distribution](#3.-Sends-frames-at-a-random-transmission-rate-that-follows-an-exponential-distribution)\n",
    "   1. [Generate random numbers that follow an exponential distribution](#3-A.-Generate-random-numbers-that-follow-an-exponential-distribution)\n",
    "   2. [Prepare send frames (Exponential distribution)](#3-B.-Prepare-send-frames-(Exponential-distribution))\n",
    "   3. [Send frames from port0 to port1, in repeat mode](#3-C.-Send-frames-from-port0-to-port1,-in-repeat-mode)\n",
    "   4. [Transfer the recorded timestamps to the host computer](#3-D.-Transfer-the-recorded-timestamps-to-the-host-computer)\n",
    "   5. [Evaluate latency and throughput](#3-E.-Evaluate-latency-and-throughput)"
   ]
  },
  {
   "cell_type": "code",
   "execution_count": 1,
   "id": "b7fcd561-0ecf-4992-96df-a888055b51df",
   "metadata": {},
   "outputs": [],
   "source": [
    "import argparse\n",
    "import tsn_efcc\n",
    "import pyxsdb\n",
    "import sys\n",
    "\n",
    "FREQ_MHZ = 125.0"
   ]
  },
  {
   "cell_type": "markdown",
   "id": "4443b5f6-3ec9-4dd1-bf86-ad07fa140498",
   "metadata": {},
   "source": [
    "## 1. Simultaneously send frames from port0 to port1 and from port2 to port1 and record the send and receive times\n",
    "Please connect Port0 (MAC0), Port1 (MAC1) and Port2 (MAC2) of the TSN-EFCC to network switch as shown below.  \n",
    "(Optional) If you connect Port3 (MAC3) and the NIC of the host PC, you can see the frames in Wireshark.  \n",
    "![overwiew_sample_design-1g_example_configuration3.drawio.svg](img/overwiew_sample_design-1g_example_configuration3.drawio.svg)"
   ]
  },
  {
   "cell_type": "markdown",
   "id": "fe025a26-944f-49d4-900f-be5d75012952",
   "metadata": {},
   "source": [
    "### 1-A. Make initial settings"
   ]
  },
  {
   "cell_type": "markdown",
   "id": "ea230143-d61f-4a16-ac29-9980b49b88e0",
   "metadata": {},
   "source": [
    "Set JTAG2AXI target. As default, this target is expected to be target 3.  \n",
    "If you want to different target value, change the next value."
   ]
  },
  {
   "cell_type": "code",
   "execution_count": 2,
   "id": "c9b4af3e-09c2-402a-bceb-e46a1b92741d",
   "metadata": {},
   "outputs": [],
   "source": [
    "xsdb_target = 3"
   ]
  },
  {
   "cell_type": "code",
   "execution_count": 3,
   "id": "75650d6b-045a-42ab-b5a8-126c3901626d",
   "metadata": {},
   "outputs": [
    {
     "name": "stdout",
     "output_type": "stream",
     "text": [
      "xsdb server launched.\n",
      "TsnEfccAddressTable(ef_crafter=1593835520, ef_crafter_buffers=(1342177280, 1358954496, 1375731712, 1392508928), ef_crafter_ip_tables=(1409286144, 1426063360, 1442840576, 1459617792), ef_crafter_mac_tables=(1476395008, 1493172224, 1509949440, 1526726656), ef_capture_tx_ctrl=(1325400064, 1325465600, 1325531136, 1325596672), ef_capture_rx_ctrl=(1325662208, 1325727744, 1325793280, 1325858816), ef_capture_buffers=(1073741824, 1090519040, 1107296256, 1124073472), ef_capture_buffer_switch=(1326448640, 1326514176, 1326579712, 1326645248), axis_net_switch=1610612736, commit_hash=1048576)\n",
      "\n"
     ]
    }
   ],
   "source": [
    "# Open xsdb device to access TSN-EFCC\n",
    "xsdb = pyxsdb.PyXsdb()\n",
    "xsdb.connect()\n",
    "xsdb.target(xsdb_target)\n",
    "\n",
    "# Get the default address table object\n",
    "default_addr_table = tsn_efcc.default_tsn_efcc_address_table()\n",
    "print(f'{default_addr_table}\\n')\n",
    "\n",
    "# Initialize AxisNetSwitch object\n",
    "switch = tsn_efcc.AxisNetSwitch(xsdb, xsdb_target, default_addr_table)\n",
    "\n",
    "# Initialize the ef_crafter\n",
    "crafter = tsn_efcc.EFCrafter(xsdb, xsdb_target, default_addr_table)\n",
    "\n",
    "# Just to be sure, stop ef_crafter\n",
    "crafter.reset(0xff)"
   ]
  },
  {
   "cell_type": "markdown",
   "id": "7181ba5f-6ec4-447b-aa95-070791efd673",
   "metadata": {},
   "source": [
    "### 1-B. Set up the AXIS Switch"
   ]
  },
  {
   "cell_type": "markdown",
   "id": "3ea6200f-4c30-41df-b207-eb82bd466e6f",
   "metadata": {},
   "source": [
    "In this test, we connect ef_crafter0(port 4) to TX0(port 0) and ef_crafter2(port 6) to TX2(port 2).  \n",
    "In addition, as FDB updates require the sending of frames from the receive port to the network switch, connect Frame Generator1 (port 5) to TX1 (port 1).\n",
    "\n",
    "If you want to optionally capture frames on the host PC, uncomment the following formula and also connect RX1 (port 1) to TX3 (port 3).  \n",
    "However, if you connect MAC3 to the network switch, never connect RX1 to TX3. Otherwise, the frames output from TX3 will be sent back to RX1, creating a loop.\n",
    "\n",
    "Other input ports are disconnected from output port."
   ]
  },
  {
   "cell_type": "code",
   "execution_count": 4,
   "id": "7d62e4c2-e7a2-4c7b-8707-a1f970acdfdf",
   "metadata": {},
   "outputs": [
    {
     "name": "stdout",
     "output_type": "stream",
     "text": [
      "input MAC0-RX -> Drop\n",
      "input MAC1-RX -> Drop\n",
      "input MAC2-RX -> Drop\n",
      "input MAC3-RX -> Drop\n",
      "input EFCrafter0 -> MAC0-TX\n",
      "input EFCrafter1 -> MAC1-TX\n",
      "input EFCrafter2 -> MAC2-TX\n",
      "input EFCrafter3 -> Drop\n"
     ]
    }
   ],
   "source": [
    "switch.start_config()\n",
    "switch.connect(4, 0)   # crafter 0 -> MAC 0 TX\n",
    "switch.connect(6, 2)   # crafter 2 -> MAC 2 TX\n",
    "switch.connect(5, 1)   # crafter 1 -> MAC 1 TX (for FDB learning)\n",
    "# switch.connect(1, 3)   # MAC 1 RX -> MAC 3 TX (optional)\n",
    "switch.commit()\n",
    "\n",
    "# show current switch status\n",
    "switch.show_configuration()"
   ]
  },
  {
   "cell_type": "markdown",
   "id": "e67edc41-ce24-4e53-8551-23e2cb393f63",
   "metadata": {},
   "source": [
    "### 1-C. Update ef_capture setting"
   ]
  },
  {
   "cell_type": "markdown",
   "id": "97138d38-2af7-4c12-9be7-3f4ac790c13e",
   "metadata": {},
   "source": [
    "Configure capture (2 TX, 1 RX)"
   ]
  },
  {
   "cell_type": "code",
   "execution_count": 5,
   "id": "4af3d033-e617-4efd-a011-4574fecee511",
   "metadata": {},
   "outputs": [],
   "source": [
    "capture0 = tsn_efcc.EFCapture(xsdb, xsdb_target, default_addr_table, 0)\n",
    "capture1 = tsn_efcc.EFCapture(xsdb, xsdb_target, default_addr_table, 1)\n",
    "capture2 = tsn_efcc.EFCapture(xsdb, xsdb_target, default_addr_table, 2)\n",
    "capture0.select_port('tx')    # use capture of MAC 0 to record TX timestamp\n",
    "capture1.select_port('rx')    # use capture of MAC 1 to record RX timestamp\n",
    "capture2.select_port('tx')    # use capture of MAC 2 to record TX timestamp\n",
    "\n",
    "# Just to be sure, let's reset the timestamp recording status\n",
    "capture0.reset()\n",
    "capture1.reset()\n",
    "capture2.reset()"
   ]
  },
  {
   "cell_type": "markdown",
   "id": "4050a6ac-57cf-40fc-bea5-963ed3851238",
   "metadata": {},
   "source": [
    "### 1-D. Prepare send frames\n",
    "To ensure that the total bandwidth is just over 1Gbps, let's generate frames to be transmitted at about 666Mbps from port0 and 750Mbps from port2."
   ]
  },
  {
   "cell_type": "markdown",
   "id": "e82d55f3-5e9d-4a51-b240-5a43257cb60f",
   "metadata": {},
   "source": [
    "Firstly, we create a frame information which flows Port0 -> Port1.  \n",
    "Transmitting one NOP frame for every two normal frames results in a 2/3 transfer rate."
   ]
  },
  {
   "cell_type": "code",
   "execution_count": 6,
   "id": "4423b54f-e8e4-4e8e-8ad4-6fa6edf4bf4f",
   "metadata": {},
   "outputs": [
    {
     "name": "stdout",
     "output_type": "stream",
     "text": [
      "Frame0000.ETHER(dst=2, src=1).IPV4(dst=2, src=1).UDP(dst=2000, src=1000).Payload(length=1024)\n",
      "Frame0001.ETHER(dst=2, src=1).IPV4(dst=2, src=1).UDP(dst=2000, src=1000).Payload(length=1024)\n",
      "Frame0002.ETHER(dst=2, src=1).IPV4(dst=2, src=1).UDP(dst=2000, src=1000).Payload(length=1024).Nop()\n",
      "EOL()\n"
     ]
    }
   ],
   "source": [
    "frame0 = tsn_efcc.Frame('Frame0').ether(dst=2, src=1).ipv4(dst=2, src=1).udp(dst=2000, src=1000).payload(length=1024)\n",
    "\n",
    "eol_frame = tsn_efcc.Frame.eol()\n",
    "crafter.set_frame(port=0, index=0, frame=frame0)\n",
    "crafter.set_frame(port=0, index=1, frame=frame0)\n",
    "crafter.set_frame(port=0, index=2, frame=frame0.clone().nop())\n",
    "crafter.set_frame(port=0, index=3, frame=eol_frame)\n",
    "\n",
    "# Dump the frame information pushed to ef_crafter\n",
    "for frame in crafter.get_frames(port=0):\n",
    "    print(frame)"
   ]
  },
  {
   "cell_type": "markdown",
   "id": "2f557347-2185-46e7-bf40-031067fa74b8",
   "metadata": {},
   "source": [
    "Next, we will create the frame information that will flow from Port2 to Port1.  \n",
    "Transmitting one NOP frame for every three normal frames results in a 3/4 transfer rate."
   ]
  },
  {
   "cell_type": "code",
   "execution_count": 7,
   "id": "bc1f2519-7465-49a5-aa3a-416747abda51",
   "metadata": {},
   "outputs": [
    {
     "name": "stdout",
     "output_type": "stream",
     "text": [
      "Frame0000.ETHER(dst=2, src=3).IPV4(dst=2, src=3).UDP(dst=2002, src=1002).Payload(length=1024)\n",
      "Frame0001.ETHER(dst=2, src=3).IPV4(dst=2, src=3).UDP(dst=2002, src=1002).Payload(length=1024)\n",
      "Frame0002.ETHER(dst=2, src=3).IPV4(dst=2, src=3).UDP(dst=2002, src=1002).Payload(length=1024)\n",
      "Frame0003.ETHER(dst=2, src=3).IPV4(dst=2, src=3).UDP(dst=2002, src=1002).Payload(length=1024).Nop()\n",
      "EOL()\n"
     ]
    }
   ],
   "source": [
    "frame2 = tsn_efcc.Frame('Frame2').ether(dst=2, src=3).ipv4(dst=2, src=3).udp(dst=2002, src=1002).payload(length=1024)\n",
    "\n",
    "crafter.set_frame(port=2, index=0, frame=frame2)\n",
    "crafter.set_frame(port=2, index=1, frame=frame2)\n",
    "crafter.set_frame(port=2, index=2, frame=frame2)\n",
    "crafter.set_frame(port=2, index=3, frame=frame2.clone().nop())\n",
    "crafter.set_frame(port=2, index=4, frame=eol_frame)\n",
    "\n",
    "# Dump the frame information pushed to ef_crafter\n",
    "for frame in crafter.get_frames(port=2):\n",
    "    print(frame)"
   ]
  },
  {
   "cell_type": "markdown",
   "id": "1c6a21cb-9636-4f51-9046-6c5542fcfa57",
   "metadata": {},
   "source": [
    "In order for the FDB to learn port 1, a frame is also created to be output from port1.  \n",
    "The destination can be port0 or port2, but here port0 is assumed."
   ]
  },
  {
   "cell_type": "code",
   "execution_count": 8,
   "id": "8a943be6-b0eb-4e33-93f8-98b81c40d7bc",
   "metadata": {},
   "outputs": [
    {
     "name": "stdout",
     "output_type": "stream",
     "text": [
      "Frame0000.ETHER(dst=1, src=2).IPV4(dst=1, src=2).UDP(dst=2001, src=1001).Payload(length=1024)\n",
      "EOL()\n"
     ]
    }
   ],
   "source": [
    "frame1 = tsn_efcc.Frame('Frame1').ether(dst=1, src=2).ipv4(dst=1, src=2).udp(dst=2001, src=1001).payload(length=1024)\n",
    "\n",
    "crafter.set_frame(port=1, index=0, frame=frame1)\n",
    "crafter.set_frame(port=1, index=1, frame=eol_frame)\n",
    "\n",
    "# Dump the frame information pushed to ef_crafter\n",
    "for frame in crafter.get_frames(port=1):\n",
    "    print(frame)"
   ]
  },
  {
   "cell_type": "markdown",
   "id": "83ed9e36-16d0-462c-81f4-c22a2223696a",
   "metadata": {},
   "source": [
    "To update the FDB for port1, first send a frame from port1 to port0.  \n",
    "The FDB for port0 and port2 will be updated when the frame is sent in the next section. "
   ]
  },
  {
   "cell_type": "code",
   "execution_count": 9,
   "id": "0fc25d5b-2c1f-4059-af20-376bfbd99ebf",
   "metadata": {},
   "outputs": [],
   "source": [
    "# Send the frame from Port1 to Port0\n",
    "port1 = 1\n",
    "bit_mask = 1 << port1\n",
    "crafter.reset(bit_mask)\n",
    "crafter.start(bit_mask)\n",
    "\n",
    "# Wait for transmission to complete\n",
    "crafter.wait(port1)"
   ]
  },
  {
   "cell_type": "markdown",
   "id": "3f850534-ec40-4b76-addd-dde6e2b06bd5",
   "metadata": {},
   "source": [
    "### 1-E. Send frames from port0 and port2 simultaneously, in repeat mode\n",
    "We use 1000 frames for evaluation.  \n",
    "Firstly, use ef_crafter with repeat mode to send frames."
   ]
  },
  {
   "cell_type": "code",
   "execution_count": 10,
   "id": "d7d33c56-98f4-487a-bf61-1471ba963528",
   "metadata": {},
   "outputs": [
    {
     "name": "stdout",
     "output_type": "stream",
     "text": [
      "Wait until 1000 frames are sent\n"
     ]
    }
   ],
   "source": [
    "num_frames = 1000\n",
    "\n",
    "port0 = 0\n",
    "port2 = 2\n",
    "bit_mask = (1 << port0) | (1 << port2)\n",
    "crafter.reset(bit_mask)\n",
    "crafter.set_repeat(bit_mask)\n",
    "crafter.start(bit_mask)\n",
    "\n",
    "print(f'Wait until {num_frames} frames are sent')\n",
    "crafter.wait_until(port0, num_frames)\n",
    "crafter.wait_until(port2, num_frames)"
   ]
  },
  {
   "cell_type": "markdown",
   "id": "9c007364-fb47-468e-8e1a-702d4d762245",
   "metadata": {},
   "source": [
    "### 1-F. Transfer the recorded timestamps to the host computer"
   ]
  },
  {
   "cell_type": "markdown",
   "id": "ac07b17f-214d-4fa7-8e22-984e0af8b3f7",
   "metadata": {},
   "source": [
    "Wait for the timestamp for the sent frame to be saved.  \n",
    "Taking into account the difference between the transfer rates of port 0 and port 2, port 1 waits for more timestamps to be stored than the total number of transfer frames for both."
   ]
  },
  {
   "cell_type": "code",
   "execution_count": 11,
   "id": "86dab5f7-dc55-4fd1-bba9-7bd010adfba4",
   "metadata": {},
   "outputs": [],
   "source": [
    "capture0.wait(num_frames)\n",
    "capture2.wait(num_frames)\n",
    "capture1.wait(num_frames * 3)\n",
    "\n",
    "# Reset ef_crafter to stop repeating\n",
    "crafter.reset(0xff)"
   ]
  },
  {
   "cell_type": "markdown",
   "id": "d94ba9b9-a0fc-4ad0-9bd6-e397b55e604c",
   "metadata": {},
   "source": [
    "Read timestamps from hardware."
   ]
  },
  {
   "cell_type": "code",
   "execution_count": 12,
   "id": "5d2cc070-f6b9-4544-8554-8d3bddb8d71d",
   "metadata": {},
   "outputs": [
    {
     "name": "stdout",
     "output_type": "stream",
     "text": [
      "read_timestamp: |██████████████████████████████| 1000 / 1000\n",
      "read_timestamp: |██████████████████████████████| 1000 / 1000\n",
      "read_timestamp: |██████████████████████████████| 3000 / 3000\n"
     ]
    }
   ],
   "source": [
    "send0_stat = capture0.read_timestamp(num_frames)\n",
    "send2_stat = capture2.read_timestamp(num_frames)\n",
    "recv_stat = capture1.read_timestamp(num_frames * 3)\n",
    "\n",
    "send0_stat.save_to_csv(\"3_send0.csv\")\n",
    "send2_stat.save_to_csv(\"3_send2.csv\")\n",
    "recv_stat.save_to_csv(\"3_recv.csv\")\n",
    "\n",
    "capture0.reset()\n",
    "capture1.reset()\n",
    "capture2.reset()"
   ]
  },
  {
   "cell_type": "markdown",
   "id": "3e5045ed-1ba6-491c-a19e-46e2da6d4f91",
   "metadata": {},
   "source": [
    "### 1-G. Check the recorded timestamps"
   ]
  },
  {
   "cell_type": "markdown",
   "id": "81ac209e-41c8-4cdc-9078-44294500235e",
   "metadata": {},
   "source": [
    "The first five of the send timestamps and the first ten of the receive timestamps are"
   ]
  },
  {
   "cell_type": "code",
   "execution_count": 13,
   "id": "776dc3bd-6f3f-4f97-8664-e33764d7b773",
   "metadata": {},
   "outputs": [
    {
     "name": "stdout",
     "output_type": "stream",
     "text": [
      "Timestamp(Port0 TX):\n",
      "  id=0, timestamp=4088128728\n",
      "  id=1, timestamp=4088129818\n",
      "  id=3, timestamp=4088131998\n",
      "  id=4, timestamp=4088133088\n",
      "  id=6, timestamp=4088135268\n",
      "Timestamp(Port2 TX):\n",
      "  id=1073741824, timestamp=4088128728\n",
      "  id=1073741825, timestamp=4088129818\n",
      "  id=1073741826, timestamp=4088130908\n",
      "  id=1073741828, timestamp=4088133088\n",
      "  id=1073741829, timestamp=4088134178\n",
      "Timestamp(Port1 RX):\n",
      "  id=1073741824, timestamp=4088128920\n",
      "  id=0, timestamp=4088130010\n",
      "  id=1073741825, timestamp=4088131100\n",
      "  id=1, timestamp=4088132189\n",
      "  id=1073741826, timestamp=4088133279\n"
     ]
    }
   ],
   "source": [
    "print('Timestamp(Port0 TX):')\n",
    "for k, v in list(send0_stat.get_stats().items())[:5]:\n",
    "    print(f'  id={k}, timestamp={v}')\n",
    "print('Timestamp(Port2 TX):')\n",
    "for k, v in list(send2_stat.get_stats().items())[:5]:\n",
    "    print(f'  id={k}, timestamp={v}')\n",
    "print('Timestamp(Port1 RX):')\n",
    "for k, v in list(recv_stat.get_stats().items())[:5]:\n",
    "    print(f'  id={k}, timestamp={v}')"
   ]
  },
  {
   "cell_type": "markdown",
   "id": "498031f5-e1bd-4e72-a9bd-40cf36f6a932",
   "metadata": {},
   "source": [
    "The upper three bits of the id are set to 0 for frames from port 0, where ef_crafter0 was used, and the upper three bits of the id are set to 1 for frames from port 2, where ef_crafter1 was used.  \n",
    "It is therefore possible to classify the timestamps received on port 1 using the id."
   ]
  },
  {
   "cell_type": "code",
   "execution_count": 14,
   "id": "ea4ea72e-8627-4e27-a754-a52c9b9c8210",
   "metadata": {},
   "outputs": [],
   "source": [
    "recv0_stat = recv_stat.get_intersection(send0_stat)\n",
    "recv2_stat = recv_stat.get_intersection(send2_stat)\n",
    "\n",
    "recv0_stat.save_to_csv(\"3_recv0.csv\")\n",
    "recv2_stat.save_to_csv(\"3_recv2.csv\")"
   ]
  },
  {
   "cell_type": "code",
   "execution_count": 15,
   "id": "a6aa85b4-0e02-4149-87dd-9ace9c1b87e2",
   "metadata": {},
   "outputs": [
    {
     "name": "stdout",
     "output_type": "stream",
     "text": [
      "Timestamp(Port1 RX all):\n",
      "  id=1073741824, timestamp=4088128920\n",
      "  id=0, timestamp=4088130010\n",
      "  id=1073741825, timestamp=4088131100\n",
      "  id=1, timestamp=4088132189\n",
      "  id=1073741826, timestamp=4088133279\n",
      "  id=3, timestamp=4088134369\n",
      "  id=1073741828, timestamp=4088135459\n",
      "  id=4, timestamp=4088136549\n",
      "  id=1073741829, timestamp=4088137639\n",
      "  id=6, timestamp=4088138729\n",
      "Timestamp(Port0 -> Port1 RX):\n",
      "  id=0, timestamp=4088130010\n",
      "  id=1, timestamp=4088132189\n",
      "  id=3, timestamp=4088134369\n",
      "  id=4, timestamp=4088136549\n",
      "  id=6, timestamp=4088138729\n",
      "Timestamp(Port2 -> Port1 RX):\n",
      "  id=0, timestamp=4088128920\n",
      "  id=1, timestamp=4088131100\n",
      "  id=2, timestamp=4088133279\n",
      "  id=4, timestamp=4088135459\n",
      "  id=5, timestamp=4088137639\n"
     ]
    }
   ],
   "source": [
    "print('Timestamp(Port1 RX all):')\n",
    "for k, v in list(recv_stat.get_stats().items())[:10]:\n",
    "    print(f'  id={k}, timestamp={v}')\n",
    "print('Timestamp(Port0 -> Port1 RX):')\n",
    "for k, v in list(recv0_stat.get_stats().items())[:5]:\n",
    "    print(f'  id={k}, timestamp={v}')\n",
    "print('Timestamp(Port2 -> Port1 RX):')\n",
    "for k, v in list(recv2_stat.get_stats().items())[:5]:\n",
    "    # print(f'  id={k}, timestamp={v}') # original id\n",
    "    print(f'  id={k - 2 * 2**29}, timestamp={v}') # id minus crafter number\n"
   ]
  },
  {
   "cell_type": "markdown",
   "id": "1b9205a5-3e05-450c-88a9-cd8e38be9817",
   "metadata": {},
   "source": [
    "### 1-H. Evaluate latency and throughput for each input port"
   ]
  },
  {
   "cell_type": "markdown",
   "id": "dfef7621-5836-4e91-997a-91a02e150a64",
   "metadata": {},
   "source": [
    "Calculates throughput and latency using the transmit and receive timestamps of frames sent from port 0."
   ]
  },
  {
   "cell_type": "code",
   "execution_count": 16,
   "id": "cbb0f4d3-075f-4649-b36a-0fbfebabf433",
   "metadata": {},
   "outputs": [
    {
     "name": "stdout",
     "output_type": "stream",
     "text": [
      "--------------------------------\n",
      "TimestampStat(Latency: port0): id range = [0x00000000:0x000005d9]\n",
      "Minimum Timestamp: 10256.00 ns\n",
      "Maximum Timestamp: 245680.00 ns\n",
      "Average Timestamp: 209614.78 ns\n",
      "Stddev Timestamp: 47888.25 ns\n",
      "l2 size of Frame0: 1070, l7 size of Frame0: 1024\n",
      "--------------------------------\n",
      "TimestampStat(Throughput: port0): id range = [0x00000000:0x000005d9]\n",
      "# of sent frames: 1000\n",
      "send rate: 655.308 Mbps\n",
      "# of recvd frames: 763\n",
      "recv rate: 500.000 Mbps\n",
      "# of dropped frames: 237\n",
      "drop rate: 23.700 %\n"
     ]
    }
   ],
   "source": [
    "# Show statistics information of the timestamp difference\n",
    "recv0_stat.subtract(send0_stat).summary(freq_mhz=FREQ_MHZ, name='Latency: port0', f=sys.stdout)\n",
    "\n",
    "start_timestamp = min(send0_stat.get_timestamps())\n",
    "end_timestamp = max(send0_stat.get_timestamps())\n",
    "duration_sec = (end_timestamp - start_timestamp) / (FREQ_MHZ * 1000 * 1000)\n",
    "\n",
    "l2_size, l7_size = frame0.get_length()\n",
    "print(f'l2 size of Frame0: {l2_size}, l7 size of Frame0: {l7_size}')\n",
    "def timestamp_to_size(tid: int) -> int:\n",
    "    return l2_size\n",
    "\n",
    "tsn_efcc.TimestampStatistic.summary_bandwidth(send0_stat, recv0_stat, FREQ_MHZ, timestamp_to_size, duration_sec=duration_sec, name='Throughput: port0', f=sys.stdout)"
   ]
  },
  {
   "cell_type": "markdown",
   "id": "bf726cc4-7508-4ea2-a39e-5658f6c21165",
   "metadata": {},
   "source": [
    "Calculates throughput and latency using the transmit and receive timestamps of frames sent from port 2."
   ]
  },
  {
   "cell_type": "code",
   "execution_count": 17,
   "id": "21150de2-5bb6-4c47-b48a-d018e5aa0204",
   "metadata": {},
   "outputs": [
    {
     "name": "stdout",
     "output_type": "stream",
     "text": [
      "--------------------------------\n",
      "TimestampStat(Latency: port2): id range = [0x40000000:0x40000534]\n",
      "Minimum Timestamp: 1536.00 ns\n",
      "Maximum Timestamp: 245680.00 ns\n",
      "Average Timestamp: 207503.35 ns\n",
      "Stddev Timestamp: 49531.14 ns\n",
      "l2 size of Frame2: 1070, l7 size of Frame0: 1024\n",
      "--------------------------------\n",
      "TimestampStat(Throughput: port2): id range = [0x40000000:0x40000534]\n",
      "# of sent frames: 1000\n",
      "send rate: 721.711 Mbps\n",
      "# of recvd frames: 681\n",
      "recv rate: 491.485 Mbps\n",
      "# of dropped frames: 319\n",
      "drop rate: 31.900 %\n"
     ]
    }
   ],
   "source": [
    "# Show statistics information of the timestamp difference\n",
    "recv2_stat.subtract(send2_stat).summary(freq_mhz=FREQ_MHZ, name='Latency: port2', f=sys.stdout)\n",
    "\n",
    "start_timestamp = min(send2_stat.get_timestamps())\n",
    "end_timestamp = max(send2_stat.get_timestamps())\n",
    "duration_sec = (end_timestamp - start_timestamp) / (FREQ_MHZ * 1000 * 1000)\n",
    "\n",
    "l2_size, l7_size = frame2.get_length()\n",
    "print(f'l2 size of Frame2: {l2_size}, l7 size of Frame0: {l7_size}')\n",
    "def timestamp_to_size(tid: int) -> int:\n",
    "    return l2_size\n",
    "\n",
    "tsn_efcc.TimestampStatistic.summary_bandwidth(send2_stat, recv2_stat, FREQ_MHZ, timestamp_to_size, name='Throughput: port2', f=sys.stdout)"
   ]
  },
  {
   "cell_type": "markdown",
   "id": "f9476d68-0423-4c87-81f9-f65e632afaa5",
   "metadata": {},
   "source": [
    "## 2. Send frames by adjusting the frame interval to match the target transfer rate\n",
    "Connect TSN-EFCC ports 0 (MAC0) and 1 (MAC1) with an Ethernet cable.  \n",
    "Alternatively, connect ports 0 (MAC0) and 1 (MAC1) to a network switch.  \n",
    "(This example uses the same structure as the first example for ef_capture_hello)  \n",
    "![overwiew_sample_design-1g_example_configuration2.drawio.svg](img/overwiew_sample_design-1g_example_configuration2.drawio.svg)"
   ]
  },
  {
   "cell_type": "markdown",
   "id": "daaac1dc-ae91-451d-9aff-f810fa56c501",
   "metadata": {},
   "source": [
    "### 2-A. Update internal switch configuration"
   ]
  },
  {
   "cell_type": "markdown",
   "id": "cb0ee064-9b8e-4618-b7bc-8fd269395a99",
   "metadata": {},
   "source": [
    "In this test, we connect ef_crafter0(port 4) to TX0(port 0).  \n",
    "In addition, ef_crafter1 (port 5) is connected to TX1 (port 1) for FDB learning when using a switch.  \n",
    "Other input ports are disconnected from output port."
   ]
  },
  {
   "cell_type": "code",
   "execution_count": 18,
   "id": "d1468055-3426-466e-90ef-25501eda5df2",
   "metadata": {},
   "outputs": [
    {
     "name": "stdout",
     "output_type": "stream",
     "text": [
      "input MAC0-RX -> Drop\n",
      "input MAC1-RX -> Drop\n",
      "input MAC2-RX -> Drop\n",
      "input MAC3-RX -> Drop\n",
      "input EFCrafter0 -> MAC0-TX\n",
      "input EFCrafter1 -> MAC1-TX\n",
      "input EFCrafter2 -> Drop\n",
      "input EFCrafter3 -> Drop\n"
     ]
    }
   ],
   "source": [
    "switch.start_config()\n",
    "switch.connect(4, 0)   # crafter0 -> MAC0 TX\n",
    "                       # loopback by ethernet cable: MAC 0 TX -> MAC1 RX, MAC1 TX -> MAC0 RX\n",
    "switch.connect(5, 1)   # crafter1 -> MAC1 TX\n",
    "switch.commit()\n",
    "\n",
    "# show current switch status\n",
    "switch.show_configuration()"
   ]
  },
  {
   "cell_type": "markdown",
   "id": "12fa5039-360a-471c-be7e-fb6e96930905",
   "metadata": {},
   "source": [
    "### 2-B. Update ef_capture setting"
   ]
  },
  {
   "cell_type": "markdown",
   "id": "22fe711e-1e35-4230-acb2-93a6b3f97003",
   "metadata": {},
   "source": [
    "Configure capture (1 TX, 1 RX)"
   ]
  },
  {
   "cell_type": "code",
   "execution_count": 19,
   "id": "0244685c-6318-40dd-a64f-ec2363a57ce4",
   "metadata": {},
   "outputs": [],
   "source": [
    "capture0 = tsn_efcc.EFCapture(xsdb, xsdb_target, default_addr_table, 0)\n",
    "capture1 = tsn_efcc.EFCapture(xsdb, xsdb_target, default_addr_table, 1)\n",
    "capture0.select_port('tx')    # use capture of MAC 0 to record TX timestamp\n",
    "capture1.select_port('rx')    # use capture of MAC 1 to record RX timestamp\n",
    "\n",
    "# Just to be sure, let's reset the timestamp recording status\n",
    "capture0.reset()\n",
    "capture1.reset()"
   ]
  },
  {
   "cell_type": "markdown",
   "id": "453bb0f8-3077-4387-8c80-af6c24a51d6c",
   "metadata": {},
   "source": [
    "### 2-C. Prepare send frames (Constant rate)\n",
    "First decide on the frame size and average transfer rate.  \n",
    "This time we will generate a frame without a VLAN TAG for UDP, so please specify the UDP payload size."
   ]
  },
  {
   "cell_type": "code",
   "execution_count": 20,
   "id": "9ff167dd-82a3-4601-ae5d-0d84a9b876a8",
   "metadata": {},
   "outputs": [],
   "source": [
    "average_rate_mbps = 500\n",
    "payload_size = 1024"
   ]
  },
  {
   "cell_type": "markdown",
   "id": "41d51cdd-ef9a-42bc-826f-76ff9b54f659",
   "metadata": {},
   "source": [
    "First create a normal frame."
   ]
  },
  {
   "cell_type": "code",
   "execution_count": 21,
   "id": "f8c1582c-748c-4d7a-8ac8-7575a40296a2",
   "metadata": {},
   "outputs": [],
   "source": [
    "valid_frame = tsn_efcc.Frame('valid_frame').ether(dst=2, src=1).ipv4(dst=2, src=1).udp(dst=2000, src=1000).payload(payload_size)"
   ]
  },
  {
   "cell_type": "markdown",
   "id": "4ce865f3-1c72-4404-980a-b04ae4f9148f",
   "metadata": {},
   "source": [
    "Next, calculate the frame transmission cycle and the target rate frame transmission cycle if there is no NOP frame or await."
   ]
  },
  {
   "cell_type": "code",
   "execution_count": 22,
   "id": "bf1b1de8-69d6-4bce-af1c-46fd4816fa7d",
   "metadata": {},
   "outputs": [],
   "source": [
    "ETHERHEADER = 14\n",
    "IPHEADER = 20\n",
    "UDPHEADER = 8\n",
    "FCS = 4\n",
    "PREAMBLE = 8\n",
    "IFG = 12\n",
    "\n",
    "BITS_PER_BYTE = 8\n",
    "BITS_PER_CYCLE = 8\n",
    "BYTES_PER_CYCLE = BITS_PER_CYCLE / BITS_PER_BYTE\n",
    "NS_PER_CYCLE = 1000 / FREQ_MHZ\n",
    "\n",
    "framesize = ETHERHEADER + IPHEADER + UDPHEADER + payload_size + FCS\n",
    "minperiod = framesize + PREAMBLE + IFG\n",
    "min_cycle = minperiod / BYTES_PER_CYCLE\n",
    "\n",
    "target_cycle = framesize * BITS_PER_BYTE / NS_PER_CYCLE / average_rate_mbps * 1000"
   ]
  },
  {
   "cell_type": "markdown",
   "id": "e1a827cc-c241-4994-b195-06033dc0cd0b",
   "metadata": {},
   "source": [
    "The target transfer rate can be achieved by increasing the frame interval by `extra_cycle` = `target_cycle - min_cycle` using NOP frame and await."
   ]
  },
  {
   "cell_type": "markdown",
   "id": "d8817508-37d5-47a8-beae-058b4cfcf391",
   "metadata": {},
   "source": [
    "The following conditions are used to register frames.\n",
    "1. if `extra_cycle` is less than 127, use await only.\n",
    "2. if `extra_cycle` is less than or equal to the maximum size of NOP, use an NOP frame only.\n",
    "3. If `extra_cycle` is less than or equal to the maximum size of NOP + the maximum size of await, use a NOP frame and await.\n",
    "4. If `extra_cycle` is greater than the maximum size of NOP + the maximum size of await, use multiple NOP frames and await.\n",
    "\n",
    "Note that cases where `extra_cycle` is negative will result in an error because a transfer rate has been specified that exceeds the maximum that can be achieved with the payload size."
   ]
  },
  {
   "cell_type": "markdown",
   "id": "caaf3e60-c8de-44c8-9f1e-f6ab76cffdc8",
   "metadata": {},
   "source": [
    "In the actual implementation, to simplify the description, conditional processing is done using `nop_length`, which is the payload size of the NOP frame, rather than the size of the NOP frame.\n",
    "```python\n",
    "nop_length = int(extra_cycle * BYTES_PER_CYCLE) - (ETHERHEADER + IPHEADER + UDPHEADER + FCS + PREAMBLE + IFG)\n",
    "await_length = int(extra_cycle * BYTES_PER_CYCLE)\n",
    "```"
   ]
  },
  {
   "cell_type": "markdown",
   "id": "b1174ce2-6eff-4219-a3ae-1083396ef262",
   "metadata": {},
   "source": [
    "The next `prepare_frames()` function registers the NOP frames and await required to reach `target_cycle`, along with the send frame."
   ]
  },
  {
   "cell_type": "code",
   "execution_count": 23,
   "id": "e602c685-4aaf-4cb7-83df-e099b968bf2b",
   "metadata": {},
   "outputs": [],
   "source": [
    "# Depends on the BRAM size of the design used\n",
    "MAX_NUM_FRAMES = 8192 - 1\n",
    "\n",
    "def prepare_frames(target_cycles):\n",
    "    max_nop_length = 0xffff + 0x7F\n",
    "    idx = 0\n",
    "    for targetcycle in target_cycles:\n",
    "        # Calculates the additional frame interval required\n",
    "        extra_cycle = int(targetcycle - min_cycle)\n",
    "\n",
    "        # Calculates the size of the NOP frame and the size of the await required to reach extra_cycle.\n",
    "        nop_length = int(extra_cycle * BYTES_PER_CYCLE) - (ETHERHEADER + IPHEADER + UDPHEADER + FCS + PREAMBLE + IFG)\n",
    "        await_length = int(extra_cycle * BYTES_PER_CYCLE)\n",
    "\n",
    "        if extra_cycle < 0:\n",
    "            # The value of average_rate_mbps is invalid\n",
    "            raise ValueError('Error: target rate({average_rate_mbps}) exceed line rate of the payload size({payload_size}). Please reduce average_rate_mbps')\n",
    "        elif nop_length >= max_nop_length:\n",
    "            # Multiple NOP frames and await are required\n",
    "            await_length = 0x7F\n",
    "            crafter.set_frame(0, idx, valid_frame.clone().payload(payload_size).additional_wait(await_length))\n",
    "            idx += 1\n",
    "            remain = nop_length - await_length\n",
    "            cnt = 0\n",
    "            # Add several NOP frames until the required frame interval is achieved\n",
    "            while (remain > 0):\n",
    "                nop_length = min(0xffff, remain)\n",
    "                remain -= nop_length\n",
    "                await_length = min(0x7F, remain)\n",
    "                remain -= await_length\n",
    "                crafter.set_frame(0, idx, valid_frame.clone().payload(nop_length).nop().additional_wait(await_length))\n",
    "                idx += 1\n",
    "                cnt += 1\n",
    "                # print(f'    #{cnt} NOP frame, nop_length = {nop_length}, await_length = {await_length}')\n",
    "        elif await_length <= 127:\n",
    "            # Use await only\n",
    "            crafter.set_frame(0, idx, valid_frame.clone().payload(payload_size).additional_wait(await_length))\n",
    "            idx += 1\n",
    "        elif nop_length > 0xffff:\n",
    "            # Use a NOP frame and await\n",
    "            await_length = nop_length - 0xffff\n",
    "            crafter.set_frame(0, idx, valid_frame)\n",
    "            idx += 1\n",
    "            crafter.set_frame(0, idx, valid_frame.clone().payload(0xffff).nop().additional_wait(nop_length))\n",
    "            idx += 1\n",
    "        else:\n",
    "            # Use a NOP frame only\n",
    "            crafter.set_frame(0, idx, valid_frame)\n",
    "            idx += 1\n",
    "            crafter.set_frame(0, idx, valid_frame.clone().payload(nop_length).nop())\n",
    "            idx += 1\n",
    "            await_length = 0\n",
    "\n",
    "    # add eol frame\n",
    "    crafter.set_frame(0, idx, eol_frame)\n",
    "    idx += 1\n",
    "\n",
    "    if idx >= MAX_NUM_FRAMES:\n",
    "        raise ValueError(f'The number of frames exceeds the buffer size of ef_crafter. Please consider to reduce num frames. current_index={idx}, buffer_size={MAX_NUM_FRAMES}')"
   ]
  },
  {
   "cell_type": "code",
   "execution_count": 24,
   "id": "5074e049-e8e2-478d-bfc6-203fdb34aec5",
   "metadata": {},
   "outputs": [],
   "source": [
    "prepare_frames([target_cycle])"
   ]
  },
  {
   "cell_type": "markdown",
   "id": "6f5b29ff-8457-4f07-9934-12346fde00d6",
   "metadata": {},
   "source": [
    "Dump the frame information pushed to ef_crafter."
   ]
  },
  {
   "cell_type": "code",
   "execution_count": 25,
   "id": "28bfba1d-21ca-4f55-b73a-caac1648d785",
   "metadata": {},
   "outputs": [
    {
     "name": "stdout",
     "output_type": "stream",
     "text": [
      "Frame0000.ETHER(dst=2, src=1).IPV4(dst=2, src=1).UDP(dst=2000, src=1000).Payload(length=1024)\n",
      "Frame0001.ETHER(dst=2, src=1).IPV4(dst=2, src=1).UDP(dst=2000, src=1000).Payload(length=984).Nop()\n",
      "EOL()\n"
     ]
    }
   ],
   "source": [
    "for frame in crafter.get_frames(port=0):\n",
    "    print(frame)"
   ]
  },
  {
   "cell_type": "markdown",
   "id": "8fe37b8a-60cf-4631-bfb0-cf40d426a9bd",
   "metadata": {},
   "source": [
    "### 2-D. Send frames from port0 to port1, in repeat mode"
   ]
  },
  {
   "cell_type": "markdown",
   "id": "5661755e-b4c0-41c1-ab01-8d1d024af351",
   "metadata": {},
   "source": [
    "As the registration is for a normal frame, enable repeat and send the required number of frames."
   ]
  },
  {
   "cell_type": "code",
   "execution_count": 26,
   "id": "646efa0c-bf38-4bbd-bfb5-d4d482699144",
   "metadata": {},
   "outputs": [],
   "source": [
    "num_frames = 1000"
   ]
  },
  {
   "cell_type": "code",
   "execution_count": 27,
   "id": "ad296a76-8e85-4c8e-acb5-6616f41bcfde",
   "metadata": {},
   "outputs": [],
   "source": [
    "port = 0\n",
    "bit_mask = 1 << port\n",
    "crafter.reset(bit_mask)\n",
    "crafter.set_repeat(bit_mask)\n",
    "crafter.start(bit_mask)\n",
    "crafter.wait_until(port, num_frames)"
   ]
  },
  {
   "cell_type": "markdown",
   "id": "7a15e42f-bac1-4c78-95e3-5ca76c2972c1",
   "metadata": {},
   "source": [
    "### 2-E. Transfer the recorded timestamps to the host computer"
   ]
  },
  {
   "cell_type": "code",
   "execution_count": 28,
   "id": "5aab4aed-c044-4125-95e7-6b5f9113e67a",
   "metadata": {},
   "outputs": [],
   "source": [
    "capture0.wait(num_frames)\n",
    "capture1.wait(num_frames)\n",
    "\n",
    "# Reset ef_crafter to stop repeating\n",
    "crafter.reset(0xff)"
   ]
  },
  {
   "cell_type": "markdown",
   "id": "7668ac28-2385-4c16-9f1c-6444fc9ac1f2",
   "metadata": {},
   "source": [
    "Read timestamps from hardware."
   ]
  },
  {
   "cell_type": "code",
   "execution_count": 29,
   "id": "d00c97d0-2355-4ab1-a748-63925b5af05a",
   "metadata": {},
   "outputs": [
    {
     "name": "stdout",
     "output_type": "stream",
     "text": [
      "read_timestamp: |██████████████████████████████| 1000 / 1000\n",
      "read_timestamp: |██████████████████████████████| 1000 / 1000\n"
     ]
    }
   ],
   "source": [
    "send_stat = capture0.read_timestamp(num_frames)\n",
    "recv_stat = capture1.read_timestamp(num_frames)\n",
    "\n",
    "send_stat.save_to_csv(\"3_2_send.csv\")\n",
    "recv_stat.save_to_csv(\"3_2_recv.csv\")\n",
    "\n",
    "capture0.reset()\n",
    "capture1.reset()"
   ]
  },
  {
   "cell_type": "markdown",
   "id": "c9da07ba-2bd2-4e75-80c2-225f33f6a81d",
   "metadata": {},
   "source": [
    "### 2-F. Evaluate latency and throughput for each input port"
   ]
  },
  {
   "cell_type": "markdown",
   "id": "ff9caa0a-14c4-422b-804c-2662084f3db2",
   "metadata": {},
   "source": [
    "Calculates throughput and latency using the transmit and receive timestamps of frames sent from port 0."
   ]
  },
  {
   "cell_type": "code",
   "execution_count": 30,
   "id": "ba876f45-e350-4f73-878b-722a6589574e",
   "metadata": {},
   "outputs": [
    {
     "name": "stdout",
     "output_type": "stream",
     "text": [
      "--------------------------------\n",
      "TimestampStat(Latency: Constant rate): id range = [0x00000000:0x000007ce]\n",
      "Minimum Timestamp: 1528.00 ns\n",
      "Maximum Timestamp: 1544.00 ns\n",
      "Average Timestamp: 1536.70 ns\n",
      "Stddev Timestamp: 3.63 ns\n",
      "l2 size of Frame2: 1070, l7 size of Frame0: 1024\n",
      "--------------------------------\n",
      "TimestampStat(Throughput: Constant rate): id range = [0x00000000:0x000007ce]\n",
      "# of sent frames: 1000\n",
      "send rate: 500.501 Mbps\n",
      "# of recvd frames: 1000\n",
      "recv rate: 500.501 Mbps\n",
      "# of dropped frames: 0\n",
      "drop rate: 0.000 %\n"
     ]
    }
   ],
   "source": [
    "# Show statistics information of the timestamp difference\n",
    "recv_stat.subtract(send_stat).summary(freq_mhz=FREQ_MHZ, name='Latency: Constant rate', f=sys.stdout)\n",
    "\n",
    "start_timestamp = min(send_stat.get_timestamps())\n",
    "end_timestamp = max(send_stat.get_timestamps())\n",
    "duration_sec = (end_timestamp - start_timestamp) / (FREQ_MHZ * 1000 * 1000)\n",
    "\n",
    "l2_size, l7_size = valid_frame.get_length()\n",
    "print(f'l2 size of Frame2: {l2_size}, l7 size of Frame0: {l7_size}')\n",
    "def timestamp_to_size(tid: int) -> int:\n",
    "    return l2_size\n",
    "\n",
    "tsn_efcc.TimestampStatistic.summary_bandwidth(send_stat, recv_stat, FREQ_MHZ, timestamp_to_size, duration_sec=duration_sec, name='Throughput: Constant rate', f=sys.stdout)"
   ]
  },
  {
   "cell_type": "markdown",
   "id": "0cfc2d69-8d7b-4016-a967-8a13a8f3bd5d",
   "metadata": {},
   "source": [
    "Check the histogram to see if the transmission interval is constant."
   ]
  },
  {
   "cell_type": "code",
   "execution_count": 31,
   "id": "49a20a7b-f013-46aa-95b9-a308c209b6f6",
   "metadata": {},
   "outputs": [],
   "source": [
    "from collections import defaultdict\n",
    "import matplotlib.pyplot as plt\n",
    "import numpy as np\n",
    "\n",
    "def plothist_rate(stat, freq_mhz, frame_size, label):\n",
    "    ts = list(stat.get_timestamps())\n",
    "    interval = np.array(ts[1:]) - np.array(ts[0:-1])\n",
    "\n",
    "    rate = []\n",
    "    for val in interval:\n",
    "        rate.append(int((freq_mhz * BITS_PER_CYCLE) * (frame_size / BYTES_PER_CYCLE) / np.asarray(val)))\n",
    "    plt.hist(rate, rwidth=0.8, bins=50, range=(0, 1000))\n",
    "\n",
    "    plt.title(f'frame rate histogram ({label})')\n",
    "    plt.ylabel('the number of frames')\n",
    "    plt.xlabel('frame rate [Mbps]')\n",
    "    # plt.savefig(filename, bbox_inches='tight', pad_inches=0.1)\n",
    "    plt.show()\n",
    "    plt.cla()\n",
    "    plt.clf()\n",
    "\n",
    "def plothist_interval(stat, label):\n",
    "    ts = list(stat.get_timestamps())\n",
    "    interval = np.array(ts[1:]) - np.array(ts[0:-1])\n",
    "\n",
    "    i_min = min(interval)\n",
    "    i_max = max(interval)\n",
    "    if i_max < i_min + 1000:\n",
    "        i_min = i_min - 500\n",
    "        i_max = i_max + 500    \n",
    "    plt.hist(interval, rwidth=0.8, bins=50, range=(i_min, i_max))\n",
    "\n",
    "    plt.title(f'frame interval histogram ({label})')\n",
    "    plt.ylabel('the number of frames')\n",
    "    plt.xlabel('frame interval [Cycles]')\n",
    "    # plt.savefig(filename, bbox_inches='tight', pad_inches=0.1)\n",
    "    plt.show()\n",
    "    plt.cla()\n",
    "    plt.clf()\n",
    "\n",
    "def draw_graph(send_stat, recv_stat, freq_mhz, frame_size):\n",
    "    plothist_interval(send_stat, 'Send interval')\n",
    "    plothist_interval(recv_stat, 'Receive interval')\n",
    "    plothist_rate(send_stat, freq_mhz, frame_size, 'Send rate')\n",
    "    plothist_rate(recv_stat, freq_mhz, frame_size, 'Receive rate')"
   ]
  },
  {
   "cell_type": "code",
   "execution_count": 32,
   "id": "54a39a55-2f11-43d2-8ae2-9fcf8e571247",
   "metadata": {},
   "outputs": [
    {
     "data": {
      "image/png": "[encoded data removed]",
      "text/plain": [
       "<Figure size 640x480 with 1 Axes>"
      ]
     },
     "metadata": {},
     "output_type": "display_data"
    },
    {
     "data": {
      "image/png": "[encoded data removed]",
      "text/plain": [
       "<Figure size 640x480 with 1 Axes>"
      ]
     },
     "metadata": {},
     "output_type": "display_data"
    },
    {
     "data": {
      "image/png": "[encoded data removed]",
      "text/plain": [
       "<Figure size 640x480 with 1 Axes>"
      ]
     },
     "metadata": {},
     "output_type": "display_data"
    },
    {
     "data": {
      "image/png": "[encoded data removed]",
      "text/plain": [
       "<Figure size 640x480 with 1 Axes>"
      ]
     },
     "metadata": {},
     "output_type": "display_data"
    },
    {
     "data": {
      "text/plain": [
       "<Figure size 640x480 with 0 Axes>"
      ]
     },
     "metadata": {},
     "output_type": "display_data"
    }
   ],
   "source": [
    "draw_graph(send_stat, recv_stat, FREQ_MHZ, framesize)"
   ]
  },
  {
   "cell_type": "markdown",
   "id": "6a05aa57-71b1-4dab-8a64-4ad21b502137",
   "metadata": {},
   "source": [
    "## 3. Sends frames at a random transmission rate that follows an exponential distribution\n",
    "Next, we calculate `target_cycle` using the exponential distribution with the specified average rate."
   ]
  },
  {
   "cell_type": "markdown",
   "id": "ab8b46c9-c343-48e0-a587-e96ac3e130bd",
   "metadata": {},
   "source": [
    "### 3-A. Generate random numbers that follow an exponential distribution"
   ]
  },
  {
   "cell_type": "markdown",
   "id": "b01bb5bd-5b89-400d-a0e8-401b48163175",
   "metadata": {},
   "source": [
    "We use the scipy function expon.rvs() to generate the array of exponential distributions.  \n",
    "The $ \\lambda $ is the number of frames sent per second, and we set the $ \\frac{1}{\\lambda} $ to the `scale` parameter of expon.rvs().  \n",
    "The random number generated is the time from the beginning of the frame to the beginning of the next frame, expressed in seconds, so you can convert it to cycles by dividing it by the time in a cycle."
   ]
  },
  {
   "cell_type": "code",
   "execution_count": 33,
   "id": "dfd831c7-17fc-46c7-a943-30c07fafd975",
   "metadata": {},
   "outputs": [],
   "source": [
    "from scipy.stats import expon\n",
    "import math\n",
    "size_bits = framesize * BITS_PER_BYTE\n",
    "exp_rate = average_rate_mbps * 1000 * 1000\n",
    "num_frames_per_seconds = exp_rate / size_bits\n",
    "\n",
    "p = expon.rvs(scale=1/num_frames_per_seconds, size=num_frames, random_state=0)\n",
    "target_cycles = p / NS_PER_CYCLE * 1000 * 1000 * 1000"
   ]
  },
  {
   "cell_type": "markdown",
   "id": "25b22a34-1aee-4f5c-b881-d3256c7ab9b3",
   "metadata": {},
   "source": [
    "However, the minimum value of the random number generated is zero, so the transfer rate becomes infinite at this point."
   ]
  },
  {
   "cell_type": "code",
   "execution_count": 34,
   "id": "cd4c4690-dd3c-4815-954a-e41d997acb6d",
   "metadata": {},
   "outputs": [
    {
     "name": "stdout",
     "output_type": "stream",
     "text": [
      "915559.7715221521\n"
     ]
    }
   ],
   "source": [
    "exp_rate = average_rate_mbps * 1000 * 1000\n",
    "num_frames_per_seconds = exp_rate / size_bits\n",
    "\n",
    "p = expon.rvs(scale=1/num_frames_per_seconds, size=1000, random_state=0)\n",
    "target_cycles = p / NS_PER_CYCLE * 1000 * 1000 * 1000\n",
    "\n",
    "tx_rates_mbps = 1000 / target_cycles * framesize\n",
    "print(max(tx_rates_mbps))"
   ]
  },
  {
   "cell_type": "markdown",
   "id": "fe7d459f-1850-4cfd-81c5-92c1020539c0",
   "metadata": {},
   "source": [
    "Therefore, by specifying the minimum number of seconds between the start of one frame and the start of the next, `min_period_sec`, in the `loc` parameter of exponent.rvs(), you can limit the maximum transfer speed."
   ]
  },
  {
   "cell_type": "code",
   "execution_count": 35,
   "id": "167aa23c-aa1b-4df2-984d-ece882ce35b6",
   "metadata": {},
   "outputs": [
    {
     "name": "stdout",
     "output_type": "stream",
     "text": [
      "980.7516040329972\n"
     ]
    }
   ],
   "source": [
    "# Calculate the offset value for an exponential distribution\n",
    "min_period_sec = min_cycle * NS_PER_CYCLE / 1000.0 / 1000.0 / 1000.0\n",
    "\n",
    "p = expon.rvs(loc = min_period_sec, scale=1/num_frames_per_seconds - min_period_sec, size=num_frames, random_state=0)\n",
    "target_cycles = (p / NS_PER_CYCLE * 1000 * 1000 * 1000 + 0.5).astype(np.uint32)\n",
    "\n",
    "tx_rates_mbps = 1000 / target_cycles * framesize\n",
    "print(max(tx_rates_mbps))"
   ]
  },
  {
   "cell_type": "markdown",
   "id": "585a3d2f-f9c5-4fa6-8914-9507e2d59570",
   "metadata": {},
   "source": [
    "### 3-B. Prepare send frames (Exponential distribution)"
   ]
  },
  {
   "cell_type": "markdown",
   "id": "701ad46d-3db7-4236-a84b-bdc88ba43e49",
   "metadata": {},
   "source": [
    "The processing after calculating `target_cycles` is the same as for the constant rate."
   ]
  },
  {
   "cell_type": "code",
   "execution_count": 36,
   "id": "e946fb5e-9959-4ff0-b469-d308eca7692c",
   "metadata": {},
   "outputs": [],
   "source": [
    "prepare_frames(target_cycles)"
   ]
  },
  {
   "cell_type": "markdown",
   "id": "7e874f4e-e1cb-4ed0-b1e9-ef5aedf5bda5",
   "metadata": {},
   "source": [
    "Dump the first 10 frames of the frame information pushed to ef_crafter."
   ]
  },
  {
   "cell_type": "code",
   "execution_count": 37,
   "id": "aa490dc6-8915-4cb2-9f4d-3370380d0573",
   "metadata": {},
   "outputs": [
    {
     "name": "stdout",
     "output_type": "stream",
     "text": [
      "Frame0000.ETHER(dst=2, src=1).IPV4(dst=2, src=1).UDP(dst=2000, src=1000).Payload(length=1024)\n",
      "Frame0001.ETHER(dst=2, src=1).IPV4(dst=2, src=1).UDP(dst=2000, src=1000).Payload(length=770).Nop()\n",
      "Frame0002.ETHER(dst=2, src=1).IPV4(dst=2, src=1).UDP(dst=2000, src=1000).Payload(length=1024)\n",
      "Frame0003.ETHER(dst=2, src=1).IPV4(dst=2, src=1).UDP(dst=2000, src=1000).Payload(length=1253).Nop()\n",
      "Frame0004.ETHER(dst=2, src=1).IPV4(dst=2, src=1).UDP(dst=2000, src=1000).Payload(length=1024)\n",
      "Frame0005.ETHER(dst=2, src=1).IPV4(dst=2, src=1).UDP(dst=2000, src=1000).Payload(length=903).Nop()\n",
      "Frame0006.ETHER(dst=2, src=1).IPV4(dst=2, src=1).UDP(dst=2000, src=1000).Payload(length=1024)\n",
      "Frame0007.ETHER(dst=2, src=1).IPV4(dst=2, src=1).UDP(dst=2000, src=1000).Payload(length=761).Nop()\n",
      "Frame0008.ETHER(dst=2, src=1).IPV4(dst=2, src=1).UDP(dst=2000, src=1000).Payload(length=1024)\n",
      "Frame0009.ETHER(dst=2, src=1).IPV4(dst=2, src=1).UDP(dst=2000, src=1000).Payload(length=513).Nop()\n"
     ]
    }
   ],
   "source": [
    "for frame in crafter.get_frames(port=0, max_num=10):\n",
    "    print(frame)"
   ]
  },
  {
   "cell_type": "markdown",
   "id": "aff6dddc-debb-43ee-b392-bd9a06636541",
   "metadata": {},
   "source": [
    "### 3-C. Send frames from port0 to port1, in repeat mode"
   ]
  },
  {
   "cell_type": "code",
   "execution_count": 38,
   "id": "a9b3aef5-12de-4b68-911b-8d835bc46ecd",
   "metadata": {},
   "outputs": [],
   "source": [
    "port = 0\n",
    "bit_mask = 1 << port\n",
    "crafter.reset(bit_mask)\n",
    "crafter.set_repeat(bit_mask)\n",
    "crafter.start(bit_mask)\n",
    "crafter.wait_until(port, num_frames)"
   ]
  },
  {
   "cell_type": "markdown",
   "id": "7ea81e5c-750a-4164-898b-88bdcf190b93",
   "metadata": {},
   "source": [
    "### 3-D. Transfer the recorded timestamps to the host computer"
   ]
  },
  {
   "cell_type": "code",
   "execution_count": 39,
   "id": "91a872a6-725e-42dd-ba8d-259ad0af6e14",
   "metadata": {},
   "outputs": [],
   "source": [
    "capture0.wait(num_frames)\n",
    "capture1.wait(num_frames)\n",
    "\n",
    "# Reset ef_crafter to stop repeating\n",
    "crafter.reset(0xff)"
   ]
  },
  {
   "cell_type": "markdown",
   "id": "1ec1b2d5-ea20-41ba-8436-1ff27cffab4a",
   "metadata": {},
   "source": [
    "Read timestamps from hardware."
   ]
  },
  {
   "cell_type": "code",
   "execution_count": 40,
   "id": "df198038-b354-4d9d-a89e-4b0ceb344612",
   "metadata": {},
   "outputs": [
    {
     "name": "stdout",
     "output_type": "stream",
     "text": [
      "read_timestamp: |██████████████████████████████| 1000 / 1000\n",
      "read_timestamp: |██████████████████████████████| 1000 / 1000\n"
     ]
    }
   ],
   "source": [
    "send_stat = capture0.read_timestamp(num_frames)\n",
    "recv_stat = capture1.read_timestamp(num_frames)\n",
    "\n",
    "send_stat.save_to_csv(\"3_3_send.csv\")\n",
    "recv_stat.save_to_csv(\"3_3_recv.csv\")\n",
    "\n",
    "capture0.reset()\n",
    "capture1.reset()"
   ]
  },
  {
   "cell_type": "markdown",
   "id": "68ae9312-4e8e-4cf3-b994-f6e48802e559",
   "metadata": {},
   "source": [
    "### 3-E. Evaluate latency and throughput"
   ]
  },
  {
   "cell_type": "markdown",
   "id": "083554ee-e83b-44e9-bc03-b26e1cad0e32",
   "metadata": {},
   "source": [
    "Calculates throughput and latency using the transmit and receive timestamps of frames sent from port 0."
   ]
  },
  {
   "cell_type": "code",
   "execution_count": 41,
   "id": "0da1d314-5cce-4535-869d-9bfa0de6f0e3",
   "metadata": {},
   "outputs": [
    {
     "name": "stdout",
     "output_type": "stream",
     "text": [
      "--------------------------------\n",
      "TimestampStat(Latency: Exponential distribution): id range = [0x00000000:0x0000075c]\n",
      "Minimum Timestamp: 1528.00 ns\n",
      "Maximum Timestamp: 1544.00 ns\n",
      "Average Timestamp: 1536.72 ns\n",
      "Stddev Timestamp: 3.20 ns\n",
      "l2 size of Frame0: 1070, l7 size of Frame0: 1024\n",
      "--------------------------------\n",
      "TimestampStat(Throughput: Exponential distribution): id range = [0x00000000:0x0000075c]\n",
      "# of sent frames: 1000\n",
      "send rate: 499.666 Mbps\n",
      "# of recvd frames: 1000\n",
      "recv rate: 499.666 Mbps\n",
      "# of dropped frames: 0\n",
      "drop rate: 0.000 %\n"
     ]
    }
   ],
   "source": [
    "# Show statistics information of the timestamp difference\n",
    "recv_stat.subtract(send_stat).summary(freq_mhz=FREQ_MHZ, name='Latency: Exponential distribution', f=sys.stdout)\n",
    "\n",
    "start_timestamp = min(send_stat.get_timestamps())\n",
    "end_timestamp = max(send_stat.get_timestamps())\n",
    "duration_sec = (end_timestamp - start_timestamp) / (FREQ_MHZ * 1000 * 1000)\n",
    "\n",
    "l2_size, l7_size = valid_frame.get_length()\n",
    "print(f'l2 size of Frame0: {l2_size}, l7 size of Frame0: {l7_size}')\n",
    "def timestamp_to_size(tid: int) -> int:\n",
    "    return l2_size\n",
    "\n",
    "tsn_efcc.TimestampStatistic.summary_bandwidth(send_stat, recv_stat, FREQ_MHZ, timestamp_to_size, duration_sec=duration_sec, name='Throughput: Exponential distribution', f=sys.stdout)"
   ]
  },
  {
   "cell_type": "markdown",
   "id": "9f75ff28-8aac-466f-9dcd-b3ddd912ea73",
   "metadata": {},
   "source": [
    "Check the histogram to see if the transmission interval is constant."
   ]
  },
  {
   "cell_type": "code",
   "execution_count": 42,
   "id": "96c14963-7ffe-4137-ad7d-f04e7c495d64",
   "metadata": {},
   "outputs": [
    {
     "data": {
      "image/png": "[encoded data removed]",
      "text/plain": [
       "<Figure size 640x480 with 1 Axes>"
      ]
     },
     "metadata": {},
     "output_type": "display_data"
    },
    {
     "data": {
      "image/png": "[encoded data removed]",
      "text/plain": [
       "<Figure size 640x480 with 1 Axes>"
      ]
     },
     "metadata": {},
     "output_type": "display_data"
    },
    {
     "data": {
      "image/png": "[encoded data removed]",
      "text/plain": [
       "<Figure size 640x480 with 1 Axes>"
      ]
     },
     "metadata": {},
     "output_type": "display_data"
    },
    {
     "data": {
      "image/png": "[encoded data removed]",
      "text/plain": [
       "<Figure size 640x480 with 1 Axes>"
      ]
     },
     "metadata": {},
     "output_type": "display_data"
    },
    {
     "data": {
      "text/plain": [
       "<Figure size 640x480 with 0 Axes>"
      ]
     },
     "metadata": {},
     "output_type": "display_data"
    }
   ],
   "source": [
    "draw_graph(send_stat, recv_stat, FREQ_MHZ, framesize)"
   ]
  }
 ],
 "metadata": {
  "kernelspec": {
   "display_name": "Python 3 (ipykernel)",
   "language": "python",
   "name": "python3"
  },
  "language_info": {
   "codemirror_mode": {
    "name": "ipython",
    "version": 3
   },
   "file_extension": ".py",
   "mimetype": "text/x-python",
   "name": "python",
   "nbconvert_exporter": "python",
   "pygments_lexer": "ipython3",
   "version": "3.10.12"
  }
 },
 "nbformat": 4,
 "nbformat_minor": 5
}
